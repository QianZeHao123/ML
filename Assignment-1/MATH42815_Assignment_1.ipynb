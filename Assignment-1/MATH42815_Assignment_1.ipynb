{
 "cells": [
  {
   "cell_type": "markdown",
   "metadata": {
    "id": "w7AH4Cr3plCU"
   },
   "source": [
    "### **Assignment 1 Notebook**\n",
    "\n",
    "This is the supporting Jupyter Notebook for Assignment 1. Here we will use the King County (USA) *House Data* dataset available via [Kaggle](https://www.kaggle.com/datasets/shivachandel/kc-house-data) .\n",
    "\n",
    "The original dataset contains 21 variables and 21613 observations. We will use 11 of those variables and our aim is to model house prices.\n",
    "\n"
   ]
  },
  {
   "cell_type": "code",
   "execution_count": null,
   "metadata": {
    "id": "XAfXD9UIJeUB"
   },
   "outputs": [],
   "source": [
    "file = \"kc_house_data.csv\"\n",
    "HouseData = read.csv(file,header=TRUE)"
   ]
  },
  {
   "cell_type": "code",
   "execution_count": null,
   "metadata": {
    "colab": {
     "base_uri": "https://localhost:8080/",
     "height": 52
    },
    "id": "iMZ68saKplCV",
    "outputId": "b46c6be7-a3bc-4b49-fa8b-a1b0a4101fb4"
   },
   "outputs": [],
   "source": [
    "HouseData =  subset(HouseData, select = c(id, price, bedrooms, bathrooms,\n",
    "                    sqft_living, sqft_lot, floors,\n",
    "                    yr_built, zipcode, lat, long))\n",
    "dim(HouseData) #this should return 21613, 11\n",
    "names(HouseData) #this should return id, price, bedrooms, bathrooms, sqft_living, sqft_lot, floors, yr_built, zipcode, lat, lon"
   ]
  },
  {
   "cell_type": "code",
   "execution_count": null,
   "metadata": {
    "colab": {
     "base_uri": "https://localhost:8080/",
     "height": 286
    },
    "id": "c2hRnEp4plCX",
    "outputId": "0f0cc9ad-63b1-40af-aa38-630078b7df95"
   },
   "outputs": [],
   "source": [
    "head(HouseData)"
   ]
  },
  {
   "cell_type": "markdown",
   "metadata": {
    "id": "VJLZ71cuCC-h"
   },
   "source": [
    "Using an appropriate function from the **leaps** library, perform forward subset selection to find a suitable set of variables to estimate house prices. Uncomment the second line in this block and replace **NULL** with the function call you have written."
   ]
  },
  {
   "cell_type": "code",
   "execution_count": null,
   "metadata": {
    "colab": {
     "base_uri": "https://localhost:8080/",
     "height": 694
    },
    "id": "yPA_cDyvaEN-",
    "outputId": "6d8c106b-379d-40cc-fc23-78d42eac56f1"
   },
   "outputs": [],
   "source": [
    "library(leaps)\n",
    "#best_forward = NULL #Replace this with the relevant function call\n",
    "summary(best_forward) #print the summary for the best_forward output"
   ]
  },
  {
   "cell_type": "code",
   "execution_count": null,
   "metadata": {
    "colab": {
     "base_uri": "https://localhost:8080/"
    },
    "id": "qEta16R1KX-U",
    "outputId": "49238533-b6cb-4777-8145-c7f07d230fc9"
   },
   "outputs": [],
   "source": [
    "forward_summary = summary(best_forward) #save the summary to forward_summary\n",
    "forward_adjr2 = which.max(forward_summary$adjr2) #choose the model with the maximum adjusted R2\n",
    "print(coef(best_forward,forward_adjr2)) #print the coefficients for the model with the highest adj R2"
   ]
  },
  {
   "cell_type": "code",
   "execution_count": null,
   "metadata": {
    "colab": {
     "base_uri": "https://localhost:8080/",
     "height": 437
    },
    "id": "znaXxiIfHppl",
    "outputId": "fe8e20b8-06f6-4916-f441-69b90555cfd7"
   },
   "outputs": [],
   "source": [
    "par(mfrow = c(1,3)) #allows for 3 plots to be plotted side by side\n",
    "\n",
    "plot(forward_summary$cp,\n",
    "     xlab = \"# Predictors\", #x-axis label\n",
    "     ylab = \"Cp\", #y-axis label\n",
    "     type = \"l\", #line plot\n",
    "     lwd = 2) #line thickness\n",
    "\n",
    "cp_min = which.min(forward_summary$cp)\n",
    "\n",
    "#overlay the minimum of cp on the previous plot using the points function\n",
    "points(cp_min,\n",
    "       forward_summary$cp[cp_min],\n",
    "       pch = 4, #cross symbol used\n",
    "       col = 2, #red colour\n",
    "       cex = 4, #make it bigger!\n",
    "       lwd = 2) #make the cross lines thicker\n",
    "\n",
    "# ADD CODE HERE TO PLOT BIC AND ADJUSTED R^2"
   ]
  },
  {
   "cell_type": "code",
   "execution_count": null,
   "metadata": {},
   "outputs": [],
   "source": []
  }
 ],
 "metadata": {
  "colab": {
   "provenance": []
  },
  "kernelspec": {
   "display_name": "Python 3 (ipykernel)",
   "language": "python",
   "name": "python3"
  },
  "language_info": {
   "codemirror_mode": {
    "name": "ipython",
    "version": 3
   },
   "file_extension": ".py",
   "mimetype": "text/x-python",
   "name": "python",
   "nbconvert_exporter": "python",
   "pygments_lexer": "ipython3",
   "version": "3.10.13"
  }
 },
 "nbformat": 4,
 "nbformat_minor": 4
}
